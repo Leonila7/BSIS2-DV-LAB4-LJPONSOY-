{
  "nbformat": 4,
  "nbformat_minor": 0,
  "metadata": {
    "colab": {
      "provenance": [],
      "authorship_tag": "ABX9TyNFwzzDkLRp0+ICs10sDicb",
      "include_colab_link": true
    },
    "kernelspec": {
      "name": "python3",
      "display_name": "Python 3"
    },
    "language_info": {
      "name": "python"
    }
  },
  "cells": [
    {
      "cell_type": "markdown",
      "metadata": {
        "id": "view-in-github",
        "colab_type": "text"
      },
      "source": [
        "<a href=\"https://colab.research.google.com/github/Leonila7/BSIS2-DV-LAB4-LJPONSOY-/blob/main/Untitled3.ipynb\" target=\"_parent\"><img src=\"https://colab.research.google.com/assets/colab-badge.svg\" alt=\"Open In Colab\"/></a>"
      ]
    },
    {
      "cell_type": "code",
      "execution_count": null,
      "metadata": {
        "id": "i7E23mfMxubr"
      },
      "outputs": [],
      "source": [
        "\n",
        "choice = int (input(\"Enter your choice:\"))\n",
        "print (\"Enter a value\")\n",
        "num1= float (input())\n",
        "num2= float (input())\n",
        "\n",
        "if choice ==1:\n",
        " result = num1 + num2\n",
        " print (\"Result is =\",result)\n",
        "elif choice ==2:\n",
        " result= num1 - num2"
      ]
    }
  ]
}